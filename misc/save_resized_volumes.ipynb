{
 "cells": [
  {
   "cell_type": "code",
   "execution_count": 1,
   "metadata": {},
   "outputs": [
    {
     "name": "stderr",
     "output_type": "stream",
     "text": [
      "Using TensorFlow backend.\n"
     ]
    }
   ],
   "source": [
    "import numpy as np\n",
    "import os\n",
    "import nibabel as nib\n",
    "from shutil import copyfile\n",
    "from nibabel.processing import resample_to_output\n",
    "import sys\n",
    "sys.path.append('..')\n",
    "from medseg import utils\n",
    "\n",
    "from matplotlib import pyplot as plt\n",
    "%matplotlib inline"
   ]
  },
  {
   "cell_type": "code",
   "execution_count": 2,
   "metadata": {
    "collapsed": true
   },
   "outputs": [],
   "source": [
    "img_size = 50\n",
    "data_path = '/media/DATA/Datasets/medseg_decathlon/'\n",
    "output_path = '/media/DATA/Datasets/medseg_decathlon/aux/data3d_size_'+str(img_size)"
   ]
  },
  {
   "cell_type": "code",
   "execution_count": 4,
   "metadata": {},
   "outputs": [
    {
     "name": "stdout",
     "output_type": "stream",
     "text": [
      "Task07_Pancreas\n",
      "Task03_Liver\n",
      "Task06_Lung\n",
      "Task01_BrainTumour\n",
      "Task05_Prostate\n",
      "Task02_Heart\n",
      "Task04_Hippocampus\n"
     ]
    }
   ],
   "source": [
    "if os.path.exists(output_path)==False:\n",
    "    os.mkdir(output_path)\n",
    "tasks = [x for x in os.listdir(data_path) if 'Task' in x]\n",
    "for task in tasks:\n",
    "    images_list =  os.listdir(data_path+task+'/imagesTr')\n",
    "\n",
    "    task_folder = os.path.join(output_path, task)\n",
    "    if os.path.exists(task_folder)==False:\n",
    "        os.mkdir(task_folder)\n",
    "        os.mkdir(os.path.join(task_folder, 'imagesTr'))\n",
    "        os.mkdir(os.path.join(task_folder, 'labelsTr'))\n",
    "        copyfile(data_path+task+'/dataset.json', task_folder+'/dataset.json')\n",
    "    \n",
    "    print(task)\n",
    "    for im_name in images_list:\n",
    "        if 'nii.gz' in im_name:\n",
    "            img3d_nib = nib.load(data_path+task+'/imagesTr/'+im_name)\n",
    "            img3d = img3d_nib.get_fdata()\n",
    "            if len(img3d.shape)==4:\n",
    "                img3d = img3d[...,0]\n",
    "                img3d_nib = nib.Nifti1Image(img3d, img3d_nib.affine, img3d_nib.header)\n",
    "            img3d_nib = resample_to_output(img3d_nib, voxel_sizes=1, order=2)\n",
    "            img3d = img3d_nib.get_fdata()\n",
    "            \n",
    "            label3d_nib = nib.load(data_path+task+'/labelsTr/'+im_name)\n",
    "            label3d_nib = resample_to_output(label3d_nib, voxel_sizes=1, order=0)\n",
    "            label3d = label3d_nib.get_fdata()\n",
    "            \n",
    "            img3d_resize = utils.resize_img(img3d, (img_size, img_size, img_size))\n",
    "            label3d_resize = utils.resize_img(label3d, (img_size, img_size, img_size))\n",
    "            '''\n",
    "            plt.imshow(img3d_resize[:,:,25])\n",
    "            plt.show()\n",
    "            '''\n",
    "            \n",
    "            np.savez_compressed(task_folder+'/imagesTr/'+im_name[:-7]+'.npz', data=img3d_resize)\n",
    "            np.savez_compressed(task_folder+'/labelsTr/'+im_name[:-7]+'.npz', data=label3d_resize)"
   ]
  },
  {
   "cell_type": "code",
   "execution_count": null,
   "metadata": {
    "collapsed": true
   },
   "outputs": [],
   "source": []
  }
 ],
 "metadata": {
  "kernelspec": {
   "display_name": "Python 2",
   "language": "python",
   "name": "python2"
  },
  "language_info": {
   "codemirror_mode": {
    "name": "ipython",
    "version": 2
   },
   "file_extension": ".py",
   "mimetype": "text/x-python",
   "name": "python",
   "nbconvert_exporter": "python",
   "pygments_lexer": "ipython2",
   "version": "2.7.12"
  }
 },
 "nbformat": 4,
 "nbformat_minor": 2
}
