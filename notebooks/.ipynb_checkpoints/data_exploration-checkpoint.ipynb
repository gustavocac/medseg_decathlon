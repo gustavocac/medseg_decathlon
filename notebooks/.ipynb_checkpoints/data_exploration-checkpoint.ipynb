{
 "cells": [
  {
   "cell_type": "code",
   "execution_count": 1,
   "metadata": {},
   "outputs": [],
   "source": [
    "import numpy as np\n",
    "import nibabel as nib\n",
    "import os"
   ]
  },
  {
   "cell_type": "code",
   "execution_count": 6,
   "metadata": {},
   "outputs": [
    {
     "name": "stdout",
     "output_type": "stream",
     "text": [
      "Task:  Task02_Heart\n",
      "num_train = 20, num_test = 10\n",
      "Image dimensions:\n",
      "Train:\n",
      "(320, 320, 130)\n",
      "(320, 320, 110)\n",
      "(320, 320, 120)\n",
      "(320, 320, 130)\n",
      "(320, 320, 100)\n",
      "Test:\n",
      "(400, 400, 180)\n",
      "(320, 320, 140)\n",
      "(400, 400, 180)\n",
      "(320, 320, 110)\n",
      "(320, 320, 137)\n",
      "Task:  Task04_Hippocampus\n",
      "num_train = 260, num_test = 130\n",
      "Image dimensions:\n",
      "Train:\n",
      "(35, 51, 35)\n",
      "(34, 52, 35)\n",
      "(36, 52, 38)\n",
      "(35, 52, 34)\n",
      "(34, 47, 40)\n",
      "Test:\n",
      "(39, 47, 36)\n",
      "(34, 51, 34)\n",
      "(34, 53, 27)\n",
      "(36, 50, 26)\n",
      "(36, 48, 32)\n",
      "Task:  Task05_Prostate\n",
      "num_train = 32, num_test = 16\n",
      "Image dimensions:\n",
      "Train:\n",
      "(320, 320, 15, 2)\n",
      "(320, 320, 20, 2)\n",
      "(320, 320, 24, 2)\n",
      "(320, 320, 15, 2)\n",
      "(320, 320, 20, 2)\n",
      "Test:\n",
      "(320, 320, 20, 2)\n",
      "(320, 320, 20, 2)\n",
      "(320, 320, 15, 2)\n",
      "(320, 320, 17, 2)\n",
      "(320, 320, 20, 2)\n"
     ]
    }
   ],
   "source": [
    "data_path = '../data/'\n",
    "tasks = os.listdir(data_path)\n",
    "\n",
    "for task in tasks:\n",
    "    print('Task: ', task)    \n",
    "    path_tr = data_path+task+'/imagesTr'\n",
    "    path_ts = data_path+task+'/imagesTs'\n",
    "    imglist_tr = os.listdir(path_tr)\n",
    "    imglist_ts = os.listdir(path_ts)\n",
    "    print('num_train = {}, num_test = {}'.format(len(imglist_tr), len(imglist_ts)))\n",
    "    print('Image dimensions:')\n",
    "    print('Train:')\n",
    "    for img_name in imglist_tr[:5]:\n",
    "        img = nib.load(os.path.join(path_tr,img_name))\n",
    "        print(img.shape)\n",
    "    print('Test:')\n",
    "    for img_name in imglist_ts[:5]:\n",
    "        img = nib.load(os.path.join(path_ts,img_name))\n",
    "        print(img.shape)\n",
    "    print('\\n')"
   ]
  }
 ],
 "metadata": {
  "kernelspec": {
   "display_name": "Python 3",
   "language": "python",
   "name": "python3"
  },
  "language_info": {
   "codemirror_mode": {
    "name": "ipython",
    "version": 3
   },
   "file_extension": ".py",
   "mimetype": "text/x-python",
   "name": "python",
   "nbconvert_exporter": "python",
   "pygments_lexer": "ipython3",
   "version": "3.5.5"
  }
 },
 "nbformat": 4,
 "nbformat_minor": 2
}
